{
 "cells": [
  {
   "cell_type": "code",
   "execution_count": 5,
   "metadata": {
    "collapsed": false
   },
   "outputs": [
    {
     "data": {
      "text/plain": [
       "['0ddeb08e9c97227853422bd71a2a695e',\n",
       " '0c59313f52304e25d5a7dcf9877633b1',\n",
       " '0ca943d821204ceb089510f836a367fd',\n",
       " '0d19f1c627df49eb223771c28548350e',\n",
       " '0c0de3749d4fe175b7a5098b060982a1',\n",
       " '0c37613214faddf8701ca41e6d43f56e',\n",
       " '00cba091fa4ad62cc3200a657aeb957e',\n",
       " '0d941a3ad6c889ac451caf89c46cb92a',\n",
       " '0a0c32c9e08cc2ea76a71649de56be6d',\n",
       " '0d2fcf787026fece4e57be167d079383',\n",
       " '0b20184e0cd497028bdd155d9fb42dc9',\n",
       " '0c98fcb55e3f36d0c2b6507f62f4c5f1',\n",
       " '0a099f2549429d29b32f349e95fb2244',\n",
       " '0d06d764d3c07572074d468b4cff954f',\n",
       " '0c60f4b87afcb3e2dfa65abbbf3ef2f9',\n",
       " '0de72529c30fe642bc60dcb75c87f6bd',\n",
       " '0a38e7597ca26f9374f8ea2770ba870d',\n",
       " '0c9d8314f9c69840e25febabb1229fa4',\n",
       " '0bd0e3056cbf23a1cb7f0f0b18446068',\n",
       " '0acbebb8d463b4b9ca88cf38431aac69']"
      ]
     },
     "execution_count": 5,
     "metadata": {},
     "output_type": "execute_result"
    }
   ],
   "source": [
    "import os\n",
    "\n",
    "path = \"/data\"\n",
    "os.listdir(path)"
   ]
  },
  {
   "cell_type": "code",
   "execution_count": null,
   "metadata": {
    "collapsed": true
   },
   "outputs": [],
   "source": []
  }
 ],
 "metadata": {
  "kernelspec": {
   "display_name": "Python 3",
   "language": "python",
   "name": "python3"
  },
  "language_info": {
   "codemirror_mode": {
    "name": "ipython",
    "version": 3
   },
   "file_extension": ".py",
   "mimetype": "text/x-python",
   "name": "python",
   "nbconvert_exporter": "python",
   "pygments_lexer": "ipython3",
   "version": "3.5.2"
  }
 },
 "nbformat": 4,
 "nbformat_minor": 2
}
